{
 "cells": [
  {
   "cell_type": "code",
   "execution_count": 8,
   "metadata": {},
   "outputs": [],
   "source": [
    "from transformers import AutoTokenizer, AutoModelForSequenceClassification\n",
    "from scipy.special import softmax"
   ]
  },
  {
   "cell_type": "code",
   "execution_count": 9,
   "metadata": {},
   "outputs": [],
   "source": [
    "#Sample tweet\n",
    "Tweet = \"@twitter it's raining tonight 😒 https://www.metoffice.gov.uk/weather\""
   ]
  },
  {
   "cell_type": "code",
   "execution_count": 13,
   "metadata": {},
   "outputs": [],
   "source": [
    "# Pre-process tweet\n",
    "Tweet_words = []\n",
    "\n",
    "for word in Tweet.split(' '):\n",
    "    if word.startswith('@') and len(word) > 1:\n",
    "        word = '@user'\n",
    "\n",
    "    elif word.startswith('http'):\n",
    "        word = \"http\"\n",
    "    Tweet_words.append(word)\n",
    "\n",
    "Tweet_proc = \" \".join(Tweet_words)"
   ]
  },
  {
   "cell_type": "code",
   "execution_count": 11,
   "metadata": {},
   "outputs": [],
   "source": [
    "# Load the model and tokenizer\n",
    "roBERTa = \"cardiffnlp/twitter-roberta-base-sentiment\"\n",
    "\n",
    "Model = AutoModelForSequenceClassification.from_pretrained(roBERTa)\n",
    "Tokenizer = AutoTokenizer.from_pretrained(roBERTa)"
   ]
  },
  {
   "cell_type": "code",
   "execution_count": 12,
   "metadata": {},
   "outputs": [
    {
     "name": "stdout",
     "output_type": "stream",
     "text": [
      "Negative 0.5971678\n",
      "Neutral 0.3472235\n",
      "Positive 0.055608753\n"
     ]
    }
   ],
   "source": [
    "# Sentiment analysis\n",
    "Encoded_tweet = Tokenizer(Tweet_proc, return_tensors = 'pt')\n",
    "\n",
    "Output = Model(Encoded_tweet['input_ids'], Encoded_tweet['attention_mask'])\n",
    "\n",
    "Scores = Output[0][0].detach().numpy()\n",
    "\n",
    "Scores = softmax(Scores)\n",
    "\n",
    "Labels = ['Negative', 'Neutral', 'Positive']\n",
    "\n",
    "for i in range(len(Scores)):\n",
    "\n",
    "    L = Labels[i]\n",
    "    S = Scores[i]\n",
    "    \n",
    "    print(L,S)"
   ]
  }
 ],
 "metadata": {
  "kernelspec": {
   "display_name": "Python 3",
   "language": "python",
   "name": "python3"
  },
  "language_info": {
   "codemirror_mode": {
    "name": "ipython",
    "version": 3
   },
   "file_extension": ".py",
   "mimetype": "text/x-python",
   "name": "python",
   "nbconvert_exporter": "python",
   "pygments_lexer": "ipython3",
   "version": "3.11.2"
  },
  "orig_nbformat": 4
 },
 "nbformat": 4,
 "nbformat_minor": 2
}
